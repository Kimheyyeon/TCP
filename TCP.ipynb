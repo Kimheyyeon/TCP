{
  "nbformat": 4,
  "nbformat_minor": 0,
  "metadata": {
    "colab": {
      "provenance": [],
      "authorship_tag": "ABX9TyNkDEW7KWxtVRMntrOK4h13",
      "include_colab_link": true
    },
    "kernelspec": {
      "name": "python3",
      "display_name": "Python 3"
    },
    "language_info": {
      "name": "python"
    }
  },
  "cells": [
    {
      "cell_type": "markdown",
      "metadata": {
        "id": "view-in-github",
        "colab_type": "text"
      },
      "source": [
        "<a href=\"https://colab.research.google.com/github/Kimheyyeon/TCP/blob/main/TCP.ipynb\" target=\"_parent\"><img src=\"https://colab.research.google.com/assets/colab-badge.svg\" alt=\"Open In Colab\"/></a>"
      ]
    },
    {
      "cell_type": "code",
      "execution_count": 1,
      "metadata": {
        "colab": {
          "base_uri": "https://localhost:8080/"
        },
        "id": "PTY6H5GBQF2Y",
        "outputId": "97552db9-bf4a-46b8-ee8c-eb73ecf43639"
      },
      "outputs": [
        {
          "output_type": "stream",
          "name": "stdout",
          "text": [
            "Received HTTP/1.1 200 OK\r\n",
            "Date: Thu, 28 Mar 2024 04:12:17 GMT\r\n",
            "Expires: -1\r\n",
            "Cache-Control: private, max-age=0\r\n",
            "Content-Type: text/html; charset=ISO-8859-1\r\n",
            "Content-Security-Policy-Report-Only: object-src 'none';base-uri 'self';script-src 'nonce-CPZd2-uGj0RU24i3IshoFg' 'strict-dynamic' 'report-sample' 'unsafe-eval' 'unsafe-inline' https: http:;report-uri https://csp.withgoogle.com/csp/gws/other-hp\r\n",
            "P3P: CP=\"This is not a P3P policy! See g.co/p3phelp for more info.\"\r\n",
            "Server: gws\r\n",
            "X-XSS-Protection: 0\r\n",
            "X-Frame-Options: SAMEORIGIN\r\n",
            "Set-Cookie: 1P_JAR=2024-03-28-04; expires=Sat, 27-Apr-2024 04:12:17 GMT; path=/; domain=.google.com; Secure\r\n",
            "Set-Cookie: AEC=Ae3NU9Pgsb163s1QXh5MPEAhaq45O_kP5XidY3LSwiHHbeW2ethmOoc2vQ; expires=Tue, 24-Sep-2024 04:12:17 GMT; path=/; domain=.google.com; Secure; HttpOnly; SameSite=lax\r\n",
            "Set-Cookie: NID=512=Z6h_HcHIJh2tVQacNgN6s388kOT5A0zBlPoGerc-40xU0ByXkglb1XxkUsl9VWE1ormdQ225UqqwQByJIfFjTl9e-URDXRW7EW-aZtcOgDlfhHYB_nT4mF1ra38SWvENadWBp86h6KE7DuQonzQkguwKr0doKk_N9LTngrp1BXU; expires=Fri, 27-Sep-202\n"
          ]
        }
      ],
      "source": [
        "import socket\n",
        "\n",
        "HOST = \"google.com\"\n",
        "PORT = 80\n",
        "\n",
        "with socket.socket(socket.AF_INET, socket.SOCK_STREAM) as s:\n",
        "    s.connect((HOST, PORT))\n",
        "    s.sendall(b\"GET / HTTP/1.2\\n\\n\")\n",
        "    data = s.recv(1024)\n",
        "\n",
        "print(f\"Received {data.decode('utf-8')}\")\n"
      ]
    },
    {
      "cell_type": "code",
      "source": [
        "!curl ipecho.net/plain"
      ],
      "metadata": {
        "colab": {
          "base_uri": "https://localhost:8080/"
        },
        "id": "sLefzc1eQd__",
        "outputId": "a8c79722-3176-49c5-c438-48b18f2008f6"
      },
      "execution_count": 3,
      "outputs": [
        {
          "output_type": "stream",
          "name": "stdout",
          "text": [
            "34.125.169.68"
          ]
        }
      ]
    }
  ]
}