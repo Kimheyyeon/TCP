{
  "nbformat": 4,
  "nbformat_minor": 0,
  "metadata": {
    "colab": {
      "provenance": [],
      "authorship_tag": "ABX9TyM4iNT6q5wnoHX48VKdLOqs",
      "include_colab_link": true
    },
    "kernelspec": {
      "name": "python3",
      "display_name": "Python 3"
    },
    "language_info": {
      "name": "python"
    }
  },
  "cells": [
    {
      "cell_type": "markdown",
      "metadata": {
        "id": "view-in-github",
        "colab_type": "text"
      },
      "source": [
        "<a href=\"https://colab.research.google.com/github/Kimheyyeon/TCP/blob/main/TCP.ipynb\" target=\"_parent\"><img src=\"https://colab.research.google.com/assets/colab-badge.svg\" alt=\"Open In Colab\"/></a>"
      ]
    },
    {
      "cell_type": "code",
      "execution_count": 5,
      "metadata": {
        "colab": {
          "base_uri": "https://localhost:8080/"
        },
        "id": "PTY6H5GBQF2Y",
        "outputId": "4190b106-27ee-4dd7-9673-be9c60bb7b63"
      },
      "outputs": [
        {
          "output_type": "stream",
          "name": "stdout",
          "text": [
            "Received HTTP/1.1 200 OK\r\n",
            "Date: Thu, 28 Mar 2024 04:32:27 GMT\r\n",
            "Expires: -1\r\n",
            "Cache-Control: private, max-age=0\r\n",
            "Content-Type: text/html; charset=ISO-8859-1\r\n",
            "Content-Security-Policy-Report-Only: object-src 'none';base-uri 'self';script-src 'nonce-8UoUpbxXCrOvlaj_ulPqjQ' 'strict-dynamic' 'report-sample' 'unsafe-eval' 'unsafe-inline' https: http:;report-uri https://csp.withgoogle.com/csp/gws/other-hp\r\n",
            "P3P: CP=\"This is not a P3P policy! See g.co/p3phelp for more info.\"\r\n",
            "Server: gws\r\n",
            "X-XSS-Protection: 0\r\n",
            "X-Frame-Options: SAMEORIGIN\r\n",
            "Set-Cookie: 1P_JAR=2024-03-28-04; expires=Sat, 27-Apr-2024 04:32:27 GMT; path=/; domain=.google.com; Secure\r\n",
            "Set-Cookie: AEC=Ae3NU9ONW-lMKaUABU3pwsCEuSp1v13fSKWP6GDdnCixroe-ZWUO8ZOdCRA; expires=Tue, 24-Sep-2024 04:32:27 GMT; path=/; domain=.google.com; Secure; HttpOnly; SameSite=lax\r\n",
            "Set-Cookie: NID=512=L0cXc3ue3cDPeCgUGHPjaneTHl2fySuGu0ROAygYonH1KP1mzn7RGNo5fGmtLO42vp2-LPEsbDPLPxWjMw-uWIwNvcE4W0qUKlo_EQ_09ts8ZT_DMCsBYKbKpQd9XPbnRCGDFgMO-8hLFGko39way-4aQFFvT0dUb_KCchuZoQ8; expires=Fri, 27-Sep-20\n"
          ]
        }
      ],
      "source": [
        "import socket\n",
        "\n",
        "HOST = \"google.com\"\n",
        "PORT = 80\n",
        "\n",
        "with socket.socket(socket.AF_INET, socket.SOCK_STREAM) as s: #SOCK_STREAM = TCP\n",
        "    s.connect((HOST, PORT)) #s.connect((\"google.com\", 80))\n",
        "    s.sendall(b\"GET / HTTP/1.2\\n\\n\") #GET : 보내라고 명령\n",
        "    data = s.recv(1024)\n",
        "\n",
        "print(f\"Received {data.decode('utf-8')}\")\n"
      ]
    },
    {
      "cell_type": "code",
      "source": [
        "!curl ipecho.net/plain"
      ],
      "metadata": {
        "colab": {
          "base_uri": "https://localhost:8080/"
        },
        "id": "sLefzc1eQd__",
        "outputId": "b86347c5-1e8c-4f7e-fb55-8d47af32a14c"
      },
      "execution_count": 6,
      "outputs": [
        {
          "output_type": "stream",
          "name": "stdout",
          "text": [
            "34.125.169.68"
          ]
        }
      ]
    }
  ]
}